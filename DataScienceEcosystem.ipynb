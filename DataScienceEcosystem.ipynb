{
 "cells": [
  {
   "cell_type": "code",
   "execution_count": 1,
   "id": "292e381d-12db-4747-882c-2642543cf606",
   "metadata": {
    "tags": []
   },
   "outputs": [],
   "source": [
    "# Exercise 1: Create a Jupyter Notebook"
   ]
  },
  {
   "cell_type": "code",
   "execution_count": 20,
   "id": "6eea595c-4188-4693-bde7-8f8c02003c9d",
   "metadata": {
    "tags": []
   },
   "outputs": [],
   "source": [
    "# Exercise 2: Create markdown cell with title of the notebook"
   ]
  },
  {
   "cell_type": "markdown",
   "id": "8baaaaaa-01bb-47e5-8006-815a7bed4550",
   "metadata": {},
   "source": [
    "# H1: Data Science Tools and Ecosystem"
   ]
  },
  {
   "cell_type": "code",
   "execution_count": 4,
   "id": "56d885b6-fa7c-402e-a0fb-81f71ffd9af7",
   "metadata": {
    "tags": []
   },
   "outputs": [],
   "source": [
    "# Exercise 3 - Create a markdown cell for an introduction"
   ]
  },
  {
   "cell_type": "markdown",
   "id": "4ba04558-6b75-48ef-84ea-50de9ba5fbf4",
   "metadata": {},
   "source": [
    "# In this notebook, Data Science Tools and Ecosystem are summarized."
   ]
  },
  {
   "cell_type": "code",
   "execution_count": 5,
   "id": "61278124-c177-44bf-95d1-b52809bd5b7e",
   "metadata": {
    "tags": []
   },
   "outputs": [],
   "source": [
    "# Exercise 4 - Create a markdown cell to list data science languages"
   ]
  },
  {
   "cell_type": "markdown",
   "id": "3c3b94ea-d9aa-459e-81f2-7e748a5ccbc4",
   "metadata": {},
   "source": [
    "# Some of the popular languages that Data Scientists use are:\n",
    "1. Python\n",
    "2. Java\n",
    "3. SQL\n",
    "4. R"
   ]
  },
  {
   "cell_type": "code",
   "execution_count": 6,
   "id": "44c7d03d-1d3f-437a-9b56-e5d0b4203c91",
   "metadata": {
    "tags": []
   },
   "outputs": [],
   "source": [
    "# Exercise 5 - Create a markdown cell to list data science libraries"
   ]
  },
  {
   "cell_type": "markdown",
   "id": "b3918acb-721d-4240-b88d-6b87a06b58db",
   "metadata": {},
   "source": [
    "# Some of the commonly used libraries used by Data Scientists include:\n",
    "1. NumPy\n",
    "2. Keras\n",
    "3. Pandas"
   ]
  },
  {
   "cell_type": "code",
   "execution_count": 7,
   "id": "e311fb27-5f13-4dce-8930-2d9a33c16c6c",
   "metadata": {
    "tags": []
   },
   "outputs": [],
   "source": [
    "# Exercise 6 - Create a markdown cell with a table of Data Science tools"
   ]
  },
  {
   "cell_type": "markdown",
   "id": "9d03ca6e-af56-4b20-9354-952fcce251b3",
   "metadata": {},
   "source": [
    "| Data Science Tools |\n",
    "| -------------|\n",
    "| Apache Spark |\n",
    "| TensorFlow |\n",
    "| Julia |"
   ]
  },
  {
   "cell_type": "code",
   "execution_count": 8,
   "id": "79ce97ef-3696-4da5-b410-a6597441e89c",
   "metadata": {
    "tags": []
   },
   "outputs": [],
   "source": [
    "# Exercise 7 - Create a markdown cell introducing arithmetic expression examples"
   ]
  },
  {
   "cell_type": "markdown",
   "id": "3633d1d9-08d7-4a8e-a3e4-7835488fe971",
   "metadata": {},
   "source": [
    "### H3: Create a markdown cell introducing arithmetic expression examples"
   ]
  },
  {
   "cell_type": "code",
   "execution_count": 9,
   "id": "147a6ac1-2459-4c80-9ff9-0657e6b27128",
   "metadata": {
    "tags": []
   },
   "outputs": [],
   "source": [
    "# Exercise 8 - Create a code cell to multiply and add numbers"
   ]
  },
  {
   "cell_type": "markdown",
   "id": "a47d0877-3436-4729-a8b0-592b150aa9af",
   "metadata": {},
   "source": [
    "***This a simple arithmetic expression to mutiply then add integers***"
   ]
  },
  {
   "cell_type": "code",
   "execution_count": 13,
   "id": "9fc0e6e7-804d-4b32-90d9-434337c463d6",
   "metadata": {
    "tags": []
   },
   "outputs": [
    {
     "data": {
      "text/plain": [
       "17"
      ]
     },
     "execution_count": 13,
     "metadata": {},
     "output_type": "execute_result"
    }
   ],
   "source": [
    "(3*4)+5"
   ]
  },
  {
   "cell_type": "code",
   "execution_count": 16,
   "id": "d98b0750-5fa3-453c-95aa-f7ed5a1077f3",
   "metadata": {
    "tags": []
   },
   "outputs": [],
   "source": [
    "# Exercise 9 - Create a code cell to convert minutes to hours"
   ]
  },
  {
   "cell_type": "markdown",
   "id": "f5243536-fc5b-4463-8671-d92a7b47ca7e",
   "metadata": {},
   "source": [
    "***This will convert 200 minutes to hours by diving by 60***"
   ]
  },
  {
   "cell_type": "code",
   "execution_count": 17,
   "id": "af32c083-5372-43f0-bf01-28cd77d1db8e",
   "metadata": {
    "tags": []
   },
   "outputs": [
    {
     "data": {
      "text/plain": [
       "3.3333333333333335"
      ]
     },
     "execution_count": 17,
     "metadata": {},
     "output_type": "execute_result"
    }
   ],
   "source": [
    "200/60"
   ]
  },
  {
   "cell_type": "code",
   "execution_count": 18,
   "id": "4178962c-0cab-4568-bd1b-c53b0a497b84",
   "metadata": {
    "tags": []
   },
   "outputs": [],
   "source": [
    "# Exercise 10 - Insert a markdown cell to list Objectives"
   ]
  },
  {
   "cell_type": "markdown",
   "id": "438d0223-18bd-4931-aa46-b395067acbd4",
   "metadata": {},
   "source": [
    "**Objectives**"
   ]
  },
  {
   "cell_type": "markdown",
   "id": "5c604298-a773-44f1-b830-399f65c64578",
   "metadata": {
    "tags": []
   },
   "source": [
    "# List popular languages for Data Science.\n",
    "\n",
    "- **Objectives**\n",
    "    - R\n",
    "    - SQL\n",
    "    - Python"
   ]
  },
  {
   "cell_type": "code",
   "execution_count": 19,
   "id": "87343695-3714-44a5-ae1b-9624f05a98ef",
   "metadata": {
    "tags": []
   },
   "outputs": [],
   "source": [
    "# Exercise 11 - Create a markdown cell to indicate the Author's name"
   ]
  },
  {
   "cell_type": "markdown",
   "id": "88df95c9-5d28-4607-94ad-0f12af5ebb58",
   "metadata": {},
   "source": [
    "## H2: Author Name\n",
    "# Bala Sai Kishore Kandula"
   ]
  },
  {
   "cell_type": "code",
   "execution_count": null,
   "id": "92e9c798-7d3e-44f7-a5ec-229da197fa54",
   "metadata": {},
   "outputs": [],
   "source": []
  }
 ],
 "metadata": {
  "kernelspec": {
   "display_name": "Python",
   "language": "python",
   "name": "conda-env-python-py"
  },
  "language_info": {
   "codemirror_mode": {
    "name": "ipython",
    "version": 3
   },
   "file_extension": ".py",
   "mimetype": "text/x-python",
   "name": "python",
   "nbconvert_exporter": "python",
   "pygments_lexer": "ipython3",
   "version": "3.7.12"
  }
 },
 "nbformat": 4,
 "nbformat_minor": 5
}
